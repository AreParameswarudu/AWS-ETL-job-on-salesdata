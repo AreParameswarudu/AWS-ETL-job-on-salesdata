{
 "cells": [
  {
   "cell_type": "markdown",
   "metadata": {
    "application/vnd.databricks.v1+cell": {
     "cellMetadata": {},
     "inputWidgets": {},
     "nuid": "b1be3227-3af1-49bc-8e0a-186968c16910",
     "showTitle": false,
     "tableResultSettingsMap": {},
     "title": ""
    }
   },
   "source": [
    "## Loading file"
   ]
  },
  {
   "cell_type": "code",
   "execution_count": 0,
   "metadata": {
    "application/vnd.databricks.v1+cell": {
     "cellMetadata": {
      "byteLimit": 2048000,
      "rowLimit": 10000
     },
     "inputWidgets": {},
     "nuid": "e8656fbc-3101-4c8d-8347-503ce939e610",
     "showTitle": false,
     "tableResultSettingsMap": {},
     "title": ""
    }
   },
   "outputs": [],
   "source": [
    "file = 'dbfs:/FileStore/raw.csv'\n",
    "df = spark.read.csv(file,header=True,inferSchema=True)\n"
   ]
  },
  {
   "cell_type": "code",
   "execution_count": 0,
   "metadata": {
    "application/vnd.databricks.v1+cell": {
     "cellMetadata": {
      "byteLimit": 2048000,
      "rowLimit": 10000
     },
     "inputWidgets": {},
     "nuid": "dd972b1a-45f0-4cba-92fa-34e5eed55244",
     "showTitle": false,
     "tableResultSettingsMap": {},
     "title": ""
    }
   },
   "outputs": [
    {
     "name": "stdout",
     "output_type": "stream",
     "text": [
      "(1500, 17)\n"
     ]
    }
   ],
   "source": [
    "print((df.count(), len(df.columns)))"
   ]
  },
  {
   "cell_type": "markdown",
   "metadata": {
    "application/vnd.databricks.v1+cell": {
     "cellMetadata": {},
     "inputWidgets": {},
     "nuid": "32d90e29-ff5c-4280-922d-3c2c72499c94",
     "showTitle": false,
     "tableResultSettingsMap": {},
     "title": ""
    }
   },
   "source": [
    "## Triming \"Time column\""
   ]
  },
  {
   "cell_type": "code",
   "execution_count": 0,
   "metadata": {
    "application/vnd.databricks.v1+cell": {
     "cellMetadata": {
      "byteLimit": 2048000,
      "rowLimit": 10000
     },
     "inputWidgets": {},
     "nuid": "dbe88f1c-df07-4cdb-b72d-ec1d213da607",
     "showTitle": false,
     "tableResultSettingsMap": {},
     "title": ""
    }
   },
   "outputs": [],
   "source": [
    "from pyspark.sql.functions import hour, minute, second, concat,lit\n",
    "df = df.withColumn('time',concat(\n",
    "                                 hour('time').cast('String'),lit(':'),\n",
    "                                 minute('time').cast(\"String\")))\n"
   ]
  },
  {
   "cell_type": "code",
   "execution_count": 0,
   "metadata": {
    "application/vnd.databricks.v1+cell": {
     "cellMetadata": {
      "byteLimit": 2048000,
      "rowLimit": 10000
     },
     "inputWidgets": {},
     "nuid": "6ca0b9e8-6a32-4259-aaab-7693aef37299",
     "showTitle": false,
     "tableResultSettingsMap": {},
     "title": ""
    }
   },
   "outputs": [
    {
     "name": "stdout",
     "output_type": "stream",
     "text": [
      "+-----------+------------+------------+------------+-----------+----------+-----+------+-----------+--------+------+-----+------------+--------------+------------+---------------+------------+\n",
      "|   order_id| customer_id|  product_id|product_name|   category|order_date| time|branch|       city|quantity| price|  tax|total_amount|payment_method|order_status|customer_rating|extra_column|\n",
      "+-----------+------------+------------+------------+-----------+----------+-----+------+-----------+--------+------+-----+------------+--------------+------------+---------------+------------+\n",
      "|ORDT3DU5QA9|CUSTG8RE4H3E|PRODV5SMJGU0|        Lamp|Electronics|2024-05-28| 9:10|     B|    Phoenix|       6|166.35|16.64|     1014.74|   Credit Card|   Cancelled|              3| Unnecessary|\n",
      "|ORDA0EFZBAN|CUSTXM3XMHYD|PRODVPUGXS8C|        Sofa|      Books|2024-04-12|13:22|     C|    Houston|       8|199.75|19.98|     1617.98|    Debit Card|     Pending|              2| Unnecessary|\n",
      "|ORDYM6WFOZG|CUSTKJGIT1TW|PRODWTR8J78F|       Chair|       Toys|2024-07-07|20:30|     B|Los Angeles|       8|373.95| 37.4|      3029.0|   Credit Card|   Cancelled|              5| Unnecessary|\n",
      "|ORDDIC8P28J|CUSTD961JFYS|PROD4UX379ZE|    Curtains|       Toys|2024-06-04|  9:0|     B|Los Angeles|       5|275.66|27.57|     1405.87|   Credit Card|   Cancelled|              5| Unnecessary|\n",
      "|ORDDTTYQ1WG|CUSTNDT87RZ3|PRODJ13XYSS8|       Jeans|       Home|2024-08-27| 8:50|     B|    Houston|       9|359.69|35.97|     3273.18|   Net Banking|   Cancelled|              3| Unnecessary|\n",
      "|ORDS1GRJWH5|CUSTTH7EHNNW|PROD1SUCSCME|        Lamp|Electronics|2024-09-21| 0:45|     C|    Chicago|      10|290.33|29.03|     2932.33|   Net Banking|   Cancelled|              1| Unnecessary|\n",
      "|ORDSFVOE0KS|CUST59BX9DNW|PROD8EJ1FFP5|  Smartphone|       Home|2024-01-09|  4:1|     A|Los Angeles|       7| 13.66| 1.37|       96.99|        PayPal|     Pending|              5| Unnecessary|\n",
      "|ORD8MKNR9AL|CUSTHTHT1V1X|PROD2ZDPKPVA|      Tablet|      Books|2023-12-09| 6:20|     A|    Phoenix|       2|430.95|43.09|      904.99|   Net Banking|   Cancelled|              0| Unnecessary|\n",
      "|ORDS5CENF95|CUST075LWHY7|PRODB8D8IDF6|     T-Shirt|       Home|2024-07-08| 5:41|     B|   New York|      10|281.78|28.18|     2845.98|    Debit Card|     Pending|              0| Unnecessary|\n",
      "|ORD4WW1GSHG|CUSTPC782N9B|PRODJSDWZEVE|    Curtains|       Home|2024-10-08|20:58|     C|    Houston|       9|296.61|29.66|     2699.15|        PayPal|     Shipped|              1| Unnecessary|\n",
      "|ORDFSY0RLIQ|CUST5N9GPV44|PRODKNTB9E49|      Puzzle|       Toys|2024-05-08| 7:22|     B|    Houston|      10| 389.6|38.96|     3934.96|        PayPal|   Cancelled|              0| Unnecessary|\n",
      "|ORDWFJ6PH2Q|CUSTR2SVPFN4|PRODJPUO19S9|       Boots|   Clothing|2024-06-04|20:44|     C|Los Angeles|       7|248.68|24.87|     1765.63|   Credit Card|   Cancelled|              5| Unnecessary|\n",
      "|ORDZEP4TRYR|CUST5WCYI9EZ|PRODMFECBYCV|      Laptop|      Books|2023-12-01|18:30|     C|   New York|       5|383.45|38.34|     1955.59|   Net Banking|   Delivered|              0| Unnecessary|\n",
      "|ORDEOSU510C|CUSTI4SWVQLX|PRODJT99GBBI|      E-Book|   Clothing|2024-09-18|14:16|     C|    Houston|       6|404.46|40.45|     2467.21|   Net Banking|   Delivered|              1| Unnecessary|\n",
      "|ORD9NNV9ICT|CUSTHCJLW8SA|PRODMTKCU9RL|      E-Book|Electronics|2024-09-12| 23:5|     C|   New York|       3|128.86|12.89|      399.47|   Net Banking|     Shipped|              3| Unnecessary|\n",
      "|ORDROD3XN1V|CUST9P2H89GB|PROD71U59SEH|       Jeans|   Clothing|2024-07-03|  7:7|     C|   New York|       4|431.54|43.15|     1769.31|   Credit Card|   Cancelled|              5| Unnecessary|\n",
      "|ORDACSWVYCP|CUSTCSDODH09|PRODOVAAD9QN|Dining Table|   Clothing|2024-05-31| 3:43|     B|   New York|      10| 73.45| 7.35|      741.85|   Net Banking|     Pending|              0| Unnecessary|\n",
      "|ORDBIZ6BSK6|CUSTXXU86MYL|PROD2GABI3V8|      Puzzle|       Home|2024-06-05| 2:22|     C|   New York|       6|234.78|23.48|     1432.16|    Debit Card|   Delivered|              2| Unnecessary|\n",
      "|ORDRFCGRK4F|CUSTBIUM1ULN|PROD6Z3UTG33|  Headphones|       Home|2024-09-22| 5:23|     C|    Houston|      10|244.47|24.45|     2469.15|   Credit Card|   Delivered|              1| Unnecessary|\n",
      "|ORDH78L2OBG|CUSTZZCJFBNF|PRODR4MYWW0G|  Headphones|      Books|2023-11-24|21:57|     A|    Houston|       5| 485.1|48.51|     2474.01|   Credit Card|   Cancelled|              1| Unnecessary|\n",
      "+-----------+------------+------------+------------+-----------+----------+-----+------+-----------+--------+------+-----+------------+--------------+------------+---------------+------------+\n",
      "only showing top 20 rows\n",
      "\n"
     ]
    }
   ],
   "source": [
    "df.show()"
   ]
  },
  {
   "cell_type": "markdown",
   "metadata": {
    "application/vnd.databricks.v1+cell": {
     "cellMetadata": {},
     "inputWidgets": {},
     "nuid": "26fdc158-ea19-4d82-8f10-fa1a5d02c89f",
     "showTitle": false,
     "tableResultSettingsMap": {},
     "title": ""
    }
   },
   "source": [
    "## Droping the column"
   ]
  },
  {
   "cell_type": "code",
   "execution_count": 0,
   "metadata": {
    "application/vnd.databricks.v1+cell": {
     "cellMetadata": {
      "byteLimit": 2048000,
      "rowLimit": 10000
     },
     "inputWidgets": {},
     "nuid": "6616b13f-008b-4a6e-8d55-3025d1c8de38",
     "showTitle": false,
     "tableResultSettingsMap": {},
     "title": ""
    }
   },
   "outputs": [],
   "source": [
    "df = df.drop('extra_column')"
   ]
  },
  {
   "cell_type": "markdown",
   "metadata": {
    "application/vnd.databricks.v1+cell": {
     "cellMetadata": {},
     "inputWidgets": {},
     "nuid": "4a117ab0-7dd6-4a13-8bd3-12b3273c9523",
     "showTitle": false,
     "tableResultSettingsMap": {},
     "title": ""
    }
   },
   "source": [
    "## checking for null values"
   ]
  },
  {
   "cell_type": "code",
   "execution_count": 0,
   "metadata": {
    "application/vnd.databricks.v1+cell": {
     "cellMetadata": {
      "byteLimit": 2048000,
      "rowLimit": 10000
     },
     "inputWidgets": {},
     "nuid": "65328753-0335-40a6-bc9f-696638f7418a",
     "showTitle": false,
     "tableResultSettingsMap": {},
     "title": ""
    }
   },
   "outputs": [
    {
     "name": "stdout",
     "output_type": "stream",
     "text": [
      "+--------+-----------+----------+------------+--------+----+------+----+--------+-----+---+------------+--------------+------------+---------------+\n",
      "|order_id|customer_id|product_id|product_name|category|Time|branch|city|quantity|price|tax|total_amount|payment_method|order_status|customer_rating|\n",
      "+--------+-----------+----------+------------+--------+----+------+----+--------+-----+---+------------+--------------+------------+---------------+\n",
      "|       0|          0|         0|           0|       0|   0|     0|   0|       0|    0|  0|           0|             0|           0|              0|\n",
      "+--------+-----------+----------+------------+--------+----+------+----+--------+-----+---+------------+--------------+------------+---------------+\n",
      "\n"
     ]
    }
   ],
   "source": [
    "\n",
    "css = ['order_id','customer_id','product_id', 'product_name', 'category','Time', 'branch','city','quantity','price','tax','total_amount','payment_method','order_status','customer_rating']\n",
    "from pyspark.sql.functions import col, isnan, when, count\n",
    "\n",
    "df.select([count(when(col(c).isNull() | isnan(c),c)).alias(c) for c in css]).show()"
   ]
  },
  {
   "cell_type": "markdown",
   "metadata": {
    "application/vnd.databricks.v1+cell": {
     "cellMetadata": {},
     "inputWidgets": {},
     "nuid": "f20f98f4-b51e-418f-afda-ea2314de224c",
     "showTitle": false,
     "tableResultSettingsMap": {},
     "title": ""
    }
   },
   "source": [
    "## Schema specification"
   ]
  },
  {
   "cell_type": "code",
   "execution_count": 0,
   "metadata": {
    "application/vnd.databricks.v1+cell": {
     "cellMetadata": {
      "byteLimit": 2048000,
      "rowLimit": 10000
     },
     "inputWidgets": {},
     "nuid": "6cb40cdb-bb61-449d-bc74-1a29d1e6d970",
     "showTitle": false,
     "tableResultSettingsMap": {},
     "title": ""
    }
   },
   "outputs": [],
   "source": [
    "from pyspark.sql.functions import col\n",
    "from pyspark.sql.types import StructField, StructType, StringType,IntegerType, TimestampType, FloatType,DateType\n",
    "\n",
    "df = df \\\n",
    "    .withColumn(\"order_id\", col(\"order_id\").cast(StringType())) \\\n",
    "    .withColumn(\"customer_id\", col(\"customer_id\").cast(StringType())) \\\n",
    "    .withColumn(\"product_id\", col(\"product_id\").cast(StringType())) \\\n",
    "    .withColumn(\"product_name\", col(\"product_name\").cast(StringType())) \\\n",
    "    .withColumn(\"category\", col(\"category\").cast(StringType())) \\\n",
    "    .withColumn(\"order_date\", col(\"order_date\").cast(DateType())) \\\n",
    "    .withColumn(\"Time\", col(\"Time\").cast(TimestampType())) \\\n",
    "    .withColumn(\"branch\", col(\"branch\").cast(StringType())) \\\n",
    "    .withColumn(\"city\", col(\"city\").cast(StringType())) \\\n",
    "    .withColumn(\"quantity\", col(\"quantity\").cast(IntegerType())) \\\n",
    "    .withColumn(\"price\", col(\"price\").cast(FloatType())) \\\n",
    "    .withColumn(\"tax\", col(\"tax\").cast(FloatType())) \\\n",
    "    .withColumn(\"total_amount\", col(\"total_amount\").cast(FloatType())) \\\n",
    "    .withColumn(\"payment_method\", col(\"payment_method\").cast(StringType())) \\\n",
    "    .withColumn(\"order_status\", col(\"order_status\").cast(StringType())) \\\n",
    "    .withColumn(\"customer_rating\", col(\"customer_rating\").cast(IntegerType()))"
   ]
  },
  {
   "cell_type": "markdown",
   "metadata": {},
   "source": [
    "## Trransformed Data"
   ]
  },
  {
   "cell_type": "code",
   "execution_count": 0,
   "metadata": {
    "application/vnd.databricks.v1+cell": {
     "cellMetadata": {
      "byteLimit": 2048000,
      "rowLimit": 10000
     },
     "inputWidgets": {},
     "nuid": "8a75c08c-b495-4faf-b0d3-bd86771c7e2f",
     "showTitle": false,
     "tableResultSettingsMap": {},
     "title": ""
    }
   },
   "outputs": [
    {
     "name": "stdout",
     "output_type": "stream",
     "text": [
      "+-----------+------------+------------+------------+-----------+----------+-------------------+------+-----------+--------+------+-----+------------+--------------+------------+---------------+\n",
      "|   order_id| customer_id|  product_id|product_name|   category|order_date|               Time|branch|       city|quantity| price|  tax|total_amount|payment_method|order_status|customer_rating|\n",
      "+-----------+------------+------------+------------+-----------+----------+-------------------+------+-----------+--------+------+-----+------------+--------------+------------+---------------+\n",
      "|ORDT3DU5QA9|CUSTG8RE4H3E|PRODV5SMJGU0|        Lamp|Electronics|2024-05-28|2024-11-01 09:10:00|     B|    Phoenix|       6|166.35|16.64|     1014.74|   Credit Card|   Cancelled|              3|\n",
      "|ORDA0EFZBAN|CUSTXM3XMHYD|PRODVPUGXS8C|        Sofa|      Books|2024-04-12|2024-11-01 13:22:00|     C|    Houston|       8|199.75|19.98|     1617.98|    Debit Card|     Pending|              2|\n",
      "|ORDYM6WFOZG|CUSTKJGIT1TW|PRODWTR8J78F|       Chair|       Toys|2024-07-07|2024-11-01 20:30:00|     B|Los Angeles|       8|373.95| 37.4|      3029.0|   Credit Card|   Cancelled|              5|\n",
      "|ORDDIC8P28J|CUSTD961JFYS|PROD4UX379ZE|    Curtains|       Toys|2024-06-04|2024-11-01 09:00:00|     B|Los Angeles|       5|275.66|27.57|     1405.87|   Credit Card|   Cancelled|              5|\n",
      "|ORDDTTYQ1WG|CUSTNDT87RZ3|PRODJ13XYSS8|       Jeans|       Home|2024-08-27|2024-11-01 08:50:00|     B|    Houston|       9|359.69|35.97|     3273.18|   Net Banking|   Cancelled|              3|\n",
      "|ORDS1GRJWH5|CUSTTH7EHNNW|PROD1SUCSCME|        Lamp|Electronics|2024-09-21|2024-11-01 00:45:00|     C|    Chicago|      10|290.33|29.03|     2932.33|   Net Banking|   Cancelled|              1|\n",
      "|ORDSFVOE0KS|CUST59BX9DNW|PROD8EJ1FFP5|  Smartphone|       Home|2024-01-09|2024-11-01 04:01:00|     A|Los Angeles|       7| 13.66| 1.37|       96.99|        PayPal|     Pending|              5|\n",
      "|ORD8MKNR9AL|CUSTHTHT1V1X|PROD2ZDPKPVA|      Tablet|      Books|2023-12-09|2024-11-01 06:20:00|     A|    Phoenix|       2|430.95|43.09|      904.99|   Net Banking|   Cancelled|              0|\n",
      "|ORDS5CENF95|CUST075LWHY7|PRODB8D8IDF6|     T-Shirt|       Home|2024-07-08|2024-11-01 05:41:00|     B|   New York|      10|281.78|28.18|     2845.98|    Debit Card|     Pending|              0|\n",
      "|ORD4WW1GSHG|CUSTPC782N9B|PRODJSDWZEVE|    Curtains|       Home|2024-10-08|2024-11-01 20:58:00|     C|    Houston|       9|296.61|29.66|     2699.15|        PayPal|     Shipped|              1|\n",
      "|ORDFSY0RLIQ|CUST5N9GPV44|PRODKNTB9E49|      Puzzle|       Toys|2024-05-08|2024-11-01 07:22:00|     B|    Houston|      10| 389.6|38.96|     3934.96|        PayPal|   Cancelled|              0|\n",
      "|ORDWFJ6PH2Q|CUSTR2SVPFN4|PRODJPUO19S9|       Boots|   Clothing|2024-06-04|2024-11-01 20:44:00|     C|Los Angeles|       7|248.68|24.87|     1765.63|   Credit Card|   Cancelled|              5|\n",
      "|ORDZEP4TRYR|CUST5WCYI9EZ|PRODMFECBYCV|      Laptop|      Books|2023-12-01|2024-11-01 18:30:00|     C|   New York|       5|383.45|38.34|     1955.59|   Net Banking|   Delivered|              0|\n",
      "|ORDEOSU510C|CUSTI4SWVQLX|PRODJT99GBBI|      E-Book|   Clothing|2024-09-18|2024-11-01 14:16:00|     C|    Houston|       6|404.46|40.45|     2467.21|   Net Banking|   Delivered|              1|\n",
      "|ORD9NNV9ICT|CUSTHCJLW8SA|PRODMTKCU9RL|      E-Book|Electronics|2024-09-12|2024-11-01 23:05:00|     C|   New York|       3|128.86|12.89|      399.47|   Net Banking|     Shipped|              3|\n",
      "|ORDROD3XN1V|CUST9P2H89GB|PROD71U59SEH|       Jeans|   Clothing|2024-07-03|2024-11-01 07:07:00|     C|   New York|       4|431.54|43.15|     1769.31|   Credit Card|   Cancelled|              5|\n",
      "|ORDACSWVYCP|CUSTCSDODH09|PRODOVAAD9QN|Dining Table|   Clothing|2024-05-31|2024-11-01 03:43:00|     B|   New York|      10| 73.45| 7.35|      741.85|   Net Banking|     Pending|              0|\n",
      "|ORDBIZ6BSK6|CUSTXXU86MYL|PROD2GABI3V8|      Puzzle|       Home|2024-06-05|2024-11-01 02:22:00|     C|   New York|       6|234.78|23.48|     1432.16|    Debit Card|   Delivered|              2|\n",
      "|ORDRFCGRK4F|CUSTBIUM1ULN|PROD6Z3UTG33|  Headphones|       Home|2024-09-22|2024-11-01 05:23:00|     C|    Houston|      10|244.47|24.45|     2469.15|   Credit Card|   Delivered|              1|\n",
      "|ORDH78L2OBG|CUSTZZCJFBNF|PRODR4MYWW0G|  Headphones|      Books|2023-11-24|2024-11-01 21:57:00|     A|    Houston|       5| 485.1|48.51|     2474.01|   Credit Card|   Cancelled|              1|\n",
      "+-----------+------------+------------+------------+-----------+----------+-------------------+------+-----------+--------+------+-----+------------+--------------+------------+---------------+\n",
      "only showing top 20 rows\n",
      "\n"
     ]
    }
   ],
   "source": [
    "df.show()"
   ]
  }
 ],
 "metadata": {
  "application/vnd.databricks.v1+notebook": {
   "dashboards": [],
   "environmentMetadata": null,
   "language": "python",
   "notebookMetadata": {
    "pythonIndentUnit": 4
   },
   "notebookName": "preprocessing",
   "widgets": {}
  },
  "language_info": {
   "name": "python"
  }
 },
 "nbformat": 4,
 "nbformat_minor": 0
}
